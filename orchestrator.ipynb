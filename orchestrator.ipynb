{
  "cells": [
    {
      "cell_type": "markdown",
      "source": [
        "##### LIBRERIAS NECESARIAS PARA LA ELABORACION DEL PIPELINE"
      ],
      "metadata": {
        "nteract": {
          "transient": {
            "deleting": false
          }
        }
      },
      "id": "1803bac9-0204-4286-bffc-5f1ddca731a9"
    },
    {
      "cell_type": "code",
      "source": [
        "from azure.ai.ml import load_component\n",
        "from azure.ai.ml.dsl import pipeline\n",
        "from azure.ai.ml import MLClient, Input, command, Output\n",
        "from azure.identity import DefaultAzureCredential, EnvironmentCredential\n",
        "from azure.ai.ml.entities import AmlCompute\n",
        "import os\n",
        "import pandas as pd\n",
        "from azure.ai.ml.entities import Environment"
      ],
      "outputs": [],
      "execution_count": 1,
      "metadata": {
        "gather": {
          "logged": 1699399710117
        }
      },
      "id": "77f23d0c-98d1-415d-a8ad-958508257b37"
    },
    {
      "cell_type": "markdown",
      "source": [
        "##### CREACION DEL CLUSTER PARA EJECUTAR EL PIPELINE"
      ],
      "metadata": {
        "nteract": {
          "transient": {
            "deleting": false
          }
        }
      },
      "id": "959dd40a-11fb-404a-80ba-241ca2dd6f3f"
    },
    {
      "cell_type": "markdown",
      "source": [
        "EL CULSTER ELEGIDO ES UNO OPTIMIZADO EN MEMORIA, QUE ES PARA ARCHIVOS PEQUEÑOS."
      ],
      "metadata": {
        "nteract": {
          "transient": {
            "deleting": false
          }
        }
      },
      "id": "a0a3ba28-a47b-4e67-b548-df8f1ff556b4"
    },
    {
      "cell_type": "code",
      "source": [
        "def get_comput_target(ml_client, name=\"cpu-cluster\", family='Standard_DS2_v2'):\n",
        "    cpu_compute_target = name\n",
        "    \n",
        "    try:\n",
        "        # let's see if the compute target already exists\n",
        "        cpu_cluster = ml_client.compute.get(cpu_compute_target)\n",
        "    except Exception:\n",
        "        cpu_cluster = AmlCompute(\n",
        "            name=cpu_compute_target,\n",
        "            type=\"amlcompute\",\n",
        "            size=family,\n",
        "            min_instances=0,\n",
        "            max_instances=4,\n",
        "            idle_time_before_scale_down=180,\n",
        "            tier=\"Dedicated\",\n",
        "        )\n",
        "    \n",
        "        cpu_cluster = ml_client.compute.begin_create_or_update(cpu_cluster).result()"
      ],
      "outputs": [],
      "execution_count": 2,
      "metadata": {
        "gather": {
          "logged": 1699399712103
        }
      },
      "id": "66bc4830-ea29-4f99-9646-a64e7dd64956"
    },
    {
      "cell_type": "markdown",
      "source": [
        "#### CARGA DE CREDENCIALES DE AZURE"
      ],
      "metadata": {
        "nteract": {
          "transient": {
            "deleting": false
          }
        }
      },
      "id": "b62a6dfe-3e6d-4476-a4b6-2476b7a14d9e"
    },
    {
      "cell_type": "code",
      "source": [
        "credential = DefaultAzureCredential()\n",
        "ml_client = MLClient.from_config(credential=credential)"
      ],
      "outputs": [
        {
          "output_type": "stream",
          "name": "stderr",
          "text": "Found the config file in: /config.json\n"
        }
      ],
      "execution_count": 3,
      "metadata": {
        "gather": {
          "logged": 1699399714644
        }
      },
      "id": "991d82a7-c307-405b-ab07-8fdcd77614c1"
    },
    {
      "cell_type": "code",
      "source": [
        "compute_target = get_comput_target(ml_client)"
      ],
      "outputs": [],
      "execution_count": 4,
      "metadata": {
        "gather": {
          "logged": 1699399716494
        }
      },
      "id": "652fff8c-f2b9-4741-995e-e3bdae0bed71"
    },
    {
      "cell_type": "markdown",
      "source": [
        "##### DESCARGA DEL DATASET PREVIAMENTE CARGADO A DROPBOX, PARA LA UTILIZACION EN EL PIPELINE"
      ],
      "metadata": {
        "nteract": {
          "transient": {
            "deleting": false
          }
        }
      },
      "id": "c62724cf-a59e-4b45-bfe1-954b360ea0e4"
    },
    {
      "cell_type": "code",
      "source": [
        "# Change to a different location if you prefer\n",
        "dataset_parent_dir = \"./data\"\n",
        "\n",
        "# create data folder if it doesnt exist.\n",
        "os.makedirs(dataset_parent_dir, exist_ok=True)\n",
        "\n",
        "# download data\n",
        "download_url = \"https://dl.dropboxusercontent.com/scl/fi/y322utp4yfc1n168ykqi8/water_potability_ds.zip?rlkey=x411mytkj6smn4yfjhr8ypk42\"\n",
        "\n",
        "# Extract current dataset name from dataset url\n",
        "dataset_name = os.path.split(download_url)[-1].split(\".\")[0]\n",
        "# Get dataset path for later use\n",
        "dataset_dir = os.path.join(dataset_parent_dir, dataset_name)"
      ],
      "outputs": [],
      "execution_count": 9,
      "metadata": {
        "jupyter": {
          "source_hidden": false,
          "outputs_hidden": false
        },
        "nteract": {
          "transient": {
            "deleting": false
          }
        },
        "gather": {
          "logged": 1699399856214
        }
      },
      "id": "e3415bdb-195f-4dde-8c89-694b6cc72874"
    },
    {
      "cell_type": "markdown",
      "source": [
        "INICIO DE LA DESCARGA DEL ARCHIVO"
      ],
      "metadata": {
        "nteract": {
          "transient": {
            "deleting": false
          }
        }
      },
      "id": "9b7c4562-2a57-4e79-a3aa-a7044abed034"
    },
    {
      "cell_type": "code",
      "source": [
        "import urllib\n",
        "# Get the data zip file path\n",
        "data_file = os.path.join(dataset_parent_dir, f\"{dataset_name}.zip\")\n",
        "\n",
        "# Download the dataset\n",
        "urllib.request.urlretrieve(download_url, filename=data_file)"
      ],
      "outputs": [
        {
          "output_type": "execute_result",
          "execution_count": 10,
          "data": {
            "text/plain": "('./data/water_potability_ds.zip', <http.client.HTTPMessage at 0x7f1d582b7c70>)"
          },
          "metadata": {}
        }
      ],
      "execution_count": 10,
      "metadata": {
        "jupyter": {
          "source_hidden": false,
          "outputs_hidden": false
        },
        "nteract": {
          "transient": {
            "deleting": false
          }
        },
        "gather": {
          "logged": 1699399859743
        }
      },
      "id": "318a9295-8e62-43cb-b00c-2d4927fc3e4c"
    },
    {
      "cell_type": "markdown",
      "source": [
        "DESCOMPRIMIR EL ARCHIVO DESCARGADO"
      ],
      "metadata": {
        "nteract": {
          "transient": {
            "deleting": false
          }
        }
      },
      "id": "ab131628-c4e4-4b76-9d09-99c60da5b77d"
    },
    {
      "cell_type": "code",
      "source": [
        "from zipfile import ZipFile\n",
        "# extract files\n",
        "with ZipFile(data_file, \"r\") as zip:\n",
        "    print(\"extracting files...\")\n",
        "    zip.extractall(path=dataset_parent_dir)\n",
        "    print(\"done\")"
      ],
      "outputs": [
        {
          "output_type": "stream",
          "name": "stdout",
          "text": "extracting files...\ndone\n"
        }
      ],
      "execution_count": 11,
      "metadata": {
        "jupyter": {
          "source_hidden": false,
          "outputs_hidden": false
        },
        "nteract": {
          "transient": {
            "deleting": false
          }
        },
        "gather": {
          "logged": 1699399861068
        }
      },
      "id": "a410011b-8adf-4e9f-8549-af1aadf7423f"
    },
    {
      "cell_type": "markdown",
      "source": [
        "ELIMINADO DEL ARCHIVO COMPRESO DESCARGADO"
      ],
      "metadata": {
        "nteract": {
          "transient": {
            "deleting": false
          }
        }
      },
      "id": "1a7e3eec-a1fa-4299-9d19-cb932930ae98"
    },
    {
      "cell_type": "code",
      "source": [
        "# delete zip file\n",
        "os.remove(data_file)"
      ],
      "outputs": [],
      "execution_count": 12,
      "metadata": {
        "jupyter": {
          "source_hidden": false,
          "outputs_hidden": false
        },
        "nteract": {
          "transient": {
            "deleting": false
          }
        },
        "gather": {
          "logged": 1699399872150
        }
      },
      "id": "ebded390-a370-47d4-81df-59e0b5d1586d"
    },
    {
      "cell_type": "markdown",
      "source": [
        "CREACION DEL MLTABLE PARA EL DATASET DESCARGADO"
      ],
      "metadata": {
        "nteract": {
          "transient": {
            "deleting": false
          }
        }
      },
      "id": "1ccd2c12-cada-4367-89ae-dd6e5f66b40e"
    },
    {
      "cell_type": "code",
      "source": [
        "import mltable\n",
        "from mltable import MLTableHeaders, MLTableFileEncoding, DataType\n",
        "\n",
        "paths = [{\"file\": \"./data/water_potability_ds.csv\"}]\n",
        "tbl = mltable.from_delimited_files(\n",
        "    paths= paths,\n",
        "    delimiter=\",\",\n",
        "    header=MLTableHeaders.all_files_same_headers,\n",
        "    infer_column_types=True,\n",
        "    include_path_column=False,\n",
        "    encoding=MLTableFileEncoding.utf8,\n",
        ")\n",
        "mltable_folder = \"./data/\"\n",
        "tbl.save(mltable_folder)"
      ],
      "outputs": [],
      "execution_count": 1,
      "metadata": {
        "jupyter": {
          "source_hidden": false,
          "outputs_hidden": false
        },
        "nteract": {
          "transient": {
            "deleting": false
          }
        },
        "gather": {
          "logged": 1699467846405
        }
      },
      "id": "800be857-ce35-46f3-aaec-889ef09b26f4"
    },
    {
      "cell_type": "markdown",
      "source": [
        "##### PARA SUBIR EL DATASET AL DATASTORAGE DE AZURE"
      ],
      "metadata": {
        "nteract": {
          "transient": {
            "deleting": false
          }
        }
      },
      "id": "69d03c67-93e8-49c2-b38a-1e4597ac311b"
    },
    {
      "cell_type": "code",
      "source": [
        "from azure.ai.ml.entities import Data\n",
        "from azure.ai.ml.constants import AssetTypes, InputOutputModes\n",
        "from azure.ai.ml import Input\n",
        "\n",
        "my_path = \"./data/water_potability_ds.csv\"\n",
        "# set the version number of the data asset\n",
        "v1 = \"initial\"\n",
        "\n",
        "my_data = Data(\n",
        "    name=\"water_potability_ds\",\n",
        "    version=v1,\n",
        "    description=\"1potable 0nopotable\",\n",
        "    path=my_path,\n",
        "    type=AssetTypes.URI_FILE,\n",
        ")\n",
        "\n",
        "## create data asset if it doesn't already exist:\n",
        "try:\n",
        "    data_asset = ml_client.data.get(name=\"water_potability_ds\", version=v1)\n",
        "    print(\n",
        "        f\"Data asset already exists. Name: {my_data.name}, version: {my_data.version}\"\n",
        "    )\n",
        "except:\n",
        "    ml_client.data.create_or_update(my_data)\n",
        "    print(f\"Data asset created. Name: {my_data.name}, version: {my_data.version}\")"
      ],
      "outputs": [
        {
          "output_type": "stream",
          "name": "stdout",
          "text": "Data asset created. Name: water_potability_ds, version: initial\n"
        }
      ],
      "execution_count": 29,
      "metadata": {
        "jupyter": {
          "source_hidden": false,
          "outputs_hidden": false
        },
        "nteract": {
          "transient": {
            "deleting": false
          }
        },
        "gather": {
          "logged": 1699400606267
        }
      },
      "id": "fd2814cc-8beb-4e73-af03-efaa41bb6297"
    },
    {
      "cell_type": "markdown",
      "source": [
        "##### OBTENER LA DIRECCION URI DEL DATASET A UTILIZAR"
      ],
      "metadata": {
        "nteract": {
          "transient": {
            "deleting": false
          }
        }
      },
      "id": "a9e124fd-4e2e-4a67-b65c-f83da61d21c7"
    },
    {
      "cell_type": "code",
      "source": [
        "import pandas as pd\n",
        "\n",
        "# get a handle of the data asset and print the URI\n",
        "data_asset = ml_client.data.get(name=\"water_potability_ds\", version=v1)\n",
        "path = data_asset.path\n",
        "print(f\"Data asset URI: {path}\")"
      ],
      "outputs": [
        {
          "output_type": "stream",
          "name": "stdout",
          "text": "Data asset URI: azureml://subscriptions/fc14670d-c5e7-4c9f-aaa4-11ab881abb5f/resourcegroups/proyecto-2-modulo-4/workspaces/proyecto_2/datastores/workspaceblobstore/paths/LocalUpload/fb076fecbb1f1d2741801ec605e41e88/water_potability_ds.csv\n"
        }
      ],
      "execution_count": 30,
      "metadata": {
        "jupyter": {
          "source_hidden": false,
          "outputs_hidden": false
        },
        "nteract": {
          "transient": {
            "deleting": false
          }
        },
        "gather": {
          "logged": 1699400609860
        }
      },
      "id": "4aa7096a-c347-4963-93dd-d68a455d990a"
    },
    {
      "cell_type": "markdown",
      "source": [
        "##### CARGA DE COMPONENTES NECESARIOS PARA EL PROYECTO DE LA MANERA DE .YML"
      ],
      "metadata": {
        "nteract": {
          "transient": {
            "deleting": false
          }
        }
      },
      "id": "07ccd29e-3e68-41a8-a36a-2c1bb352fb3e"
    },
    {
      "cell_type": "code",
      "source": [
        "split_component = load_component(source=\"./split-component/split.yml\")\n",
        "train_LR_component = load_component(source=\"./train-LR-component/train_LR.yml\")\n",
        "train_DT_component = load_component(source=\"./train-DT-component/train_DT.yml\")\n",
        "score_component = load_component(source=\"./score-component/score.yml\")\n",
        "eval_component = load_component(source=\"./eval-component/eval.yml\")"
      ],
      "outputs": [],
      "execution_count": 31,
      "metadata": {
        "gather": {
          "logged": 1699400625590
        }
      },
      "id": "fd4e05e1-fa4d-492f-9880-5c36e83c9806"
    },
    {
      "cell_type": "markdown",
      "source": [
        "##### CREACION DE LA DIRECCION DONDE SE GUARDARA EL CONDA.YAML"
      ],
      "metadata": {
        "nteract": {
          "transient": {
            "deleting": false
          }
        }
      },
      "id": "b0b0baa6-a639-4967-a40c-2396e8ec1a89"
    },
    {
      "cell_type": "code",
      "source": [
        "import os\n",
        "\n",
        "dependencies_dir = \"./dependencies\"\n",
        "os.makedirs(dependencies_dir, exist_ok=True)"
      ],
      "outputs": [],
      "execution_count": 32,
      "metadata": {
        "jupyter": {
          "source_hidden": false,
          "outputs_hidden": false
        },
        "nteract": {
          "transient": {
            "deleting": false
          }
        },
        "gather": {
          "logged": 1699400628298
        }
      },
      "id": "e4422712-15dc-435a-aa25-432f554600ec"
    },
    {
      "cell_type": "markdown",
      "source": [
        "##### CREACION DEL CONDA.YAML, DONDE ESTERAN LAS LIBRERIAS NECESARIAS PARA CORRER EL PIPELINE PARA CARGAR AL ENVIROMENT."
      ],
      "metadata": {
        "nteract": {
          "transient": {
            "deleting": false
          }
        }
      },
      "id": "f75499d7-e488-45ce-a155-e9b58b7c50ea"
    },
    {
      "cell_type": "code",
      "source": [
        "%%writefile {dependencies_dir}/conda.yaml\n",
        "name: model-env\n",
        "channels:\n",
        "  - conda-forge\n",
        "dependencies:\n",
        "  - python=3.8\n",
        "  - numpy=1.21.2\n",
        "  - pip=21.2.4\n",
        "  - scikit-learn=0.24.2\n",
        "  - scipy=1.7.1\n",
        "  - pandas>=1.1,<1.2\n",
        "  - pip:\n",
        "    - inference-schema[numpy-support]==1.3.0\n",
        "    - xlrd==2.0.1\n",
        "    - azureml-mlflow==1.42.0\n",
        "    - seaborn"
      ],
      "outputs": [
        {
          "output_type": "stream",
          "name": "stdout",
          "text": "Overwriting ./dependencies/conda.yaml\n"
        }
      ],
      "execution_count": 33,
      "metadata": {
        "jupyter": {
          "source_hidden": false,
          "outputs_hidden": false
        },
        "nteract": {
          "transient": {
            "deleting": false
          }
        },
        "gather": {
          "logged": 1699297432466
        }
      },
      "id": "405db213-4d7d-4345-9748-d503c5aad1fd"
    },
    {
      "cell_type": "markdown",
      "source": [
        "##### CARGA DEL ENVIRONMENT A AZURE."
      ],
      "metadata": {
        "nteract": {
          "transient": {
            "deleting": false
          }
        }
      },
      "id": "d6b502d2-008c-41be-8299-b6f90424e217"
    },
    {
      "cell_type": "code",
      "source": [
        "from azure.ai.ml.entities import Environment\n",
        "\n",
        "custom_env_name = \"aml-scikit-learn\"\n",
        "\n",
        "pipeline_job_env = Environment(\n",
        "    name=custom_env_name,\n",
        "    description=\"Custom environment for Credit Card Defaults pipeline\",\n",
        "    tags={\"scikit-learn\": \"0.24.2\"},\n",
        "    conda_file=os.path.join(dependencies_dir, \"conda.yaml\"),\n",
        "    image=\"mcr.microsoft.com/azureml/openmpi4.1.0-ubuntu20.04:latest\",\n",
        "    version=\"0.1.1\",\n",
        ")\n",
        "pipeline_job_env = ml_client.environments.create_or_update(pipeline_job_env)\n",
        "\n",
        "print(\n",
        "    f\"Environment with name {pipeline_job_env.name} is registered to workspace, the environment version is {pipeline_job_env.version}\"\n",
        ")\n",
        "\n"
      ],
      "outputs": [
        {
          "output_type": "stream",
          "name": "stdout",
          "text": "Environment with name aml-scikit-learn is registered to workspace, the environment version is 0.1.1\n"
        }
      ],
      "execution_count": 34,
      "metadata": {
        "jupyter": {
          "source_hidden": false,
          "outputs_hidden": false
        },
        "nteract": {
          "transient": {
            "deleting": false
          }
        },
        "gather": {
          "logged": 1699400636344
        }
      },
      "id": "77f7ba40-a90c-42be-967f-32c7e0f8e187"
    },
    {
      "cell_type": "markdown",
      "source": [
        "##### LUGAR DONDE SE CREARA EL COMPONENTE DE PROCESAMIENTO DEL DATASET"
      ],
      "metadata": {
        "nteract": {
          "transient": {
            "deleting": false
          }
        }
      },
      "id": "93bafa48-4608-40c8-bb8f-bf638ec4112c"
    },
    {
      "cell_type": "code",
      "source": [
        "import os\n",
        "\n",
        "proce_data_src_dir = \"./proce-data-component/proce-data_src\"\n",
        "os.makedirs(proce_data_src_dir, exist_ok=True)"
      ],
      "outputs": [],
      "execution_count": 35,
      "metadata": {
        "jupyter": {
          "source_hidden": false,
          "outputs_hidden": false
        },
        "nteract": {
          "transient": {
            "deleting": false
          }
        },
        "gather": {
          "logged": 1699400639996
        }
      },
      "id": "f48b4fc7-9d3c-46dd-b0ed-cb69b8c84c8d"
    },
    {
      "cell_type": "markdown",
      "source": [
        "CREACION DEL COMPONENTE DE PROCESAMIENTO DEL DATASET, POR MEDIO DE \"PROGRAMMATIC DEFINITION\"."
      ],
      "metadata": {
        "nteract": {
          "transient": {
            "deleting": false
          }
        }
      },
      "id": "cb905a41-c114-486d-b891-9bf40d7b2392"
    },
    {
      "cell_type": "markdown",
      "source": [
        "SE CREO DE ESTA MANERA YA QUE ASI SE VIO LA FORMA DE UTILIZAR EL ENVIAR"
      ],
      "metadata": {
        "nteract": {
          "transient": {
            "deleting": false
          }
        }
      },
      "id": "e3f40232-f9f0-40bd-a12d-d0e902b9d1c8"
    },
    {
      "cell_type": "code",
      "source": [
        "from azure.ai.ml import command\n",
        "from azure.ai.ml import Input, Output\n",
        "\n",
        "proce_data_component = command(\n",
        "    name=\"proce_data\",\n",
        "    display_name=\"Data preparation for training\",\n",
        "    description=\"reads a .csv input, filter the input to train and test\",\n",
        "    inputs={\n",
        "        \"data\": Input(type=\"uri_file\"),\n",
        "    },\n",
        "    outputs=dict(\n",
        "        data_filtrado=Output(type=\"uri_folder\", mode=\"rw_mount\"),\n",
        "        imagen_correlacion=Output(type=\"uri_folder\", mode=\"rw_mount\"),\n",
        "    ),\n",
        "    # The source folder of the component\n",
        "    code=proce_data_src_dir,\n",
        "    command=\"\"\"python proce-data.py \\\n",
        "            --data ${{inputs.data}} \\\n",
        "            --data_filtrado ${{outputs.data_filtrado}} --imagen_correlacion ${{outputs.imagen_correlacion}} \\\n",
        "            \"\"\",\n",
        "    environment=f\"{pipeline_job_env.name}:{pipeline_job_env.version}\",\n",
        ")"
      ],
      "outputs": [],
      "execution_count": 36,
      "metadata": {
        "jupyter": {
          "source_hidden": false,
          "outputs_hidden": false
        },
        "nteract": {
          "transient": {
            "deleting": false
          }
        },
        "gather": {
          "logged": 1699400642370
        }
      },
      "id": "5ebd90e6-1b5d-45e0-98d6-a3886b017d48"
    },
    {
      "cell_type": "markdown",
      "source": [
        "##### CARGA DEL COMPONENTE PROCE_DATA AL ML_CLIENT."
      ],
      "metadata": {
        "nteract": {
          "transient": {
            "deleting": false
          }
        }
      },
      "id": "6e278bc7-2da1-41d0-be2c-225e61e90598"
    },
    {
      "cell_type": "code",
      "source": [
        "proce_data_component = ml_client.create_or_update(proce_data_component.component)"
      ],
      "outputs": [],
      "execution_count": 37,
      "metadata": {
        "jupyter": {
          "source_hidden": false,
          "outputs_hidden": false
        },
        "nteract": {
          "transient": {
            "deleting": false
          }
        },
        "gather": {
          "logged": 1699400649950
        }
      },
      "id": "f8892bd1-39fa-4dc3-9b12-e7222813bdd0"
    },
    {
      "cell_type": "markdown",
      "source": [
        "###### COMANDO PARA CARGAR ENLAZAR LOS COMPONENTES, Y OBTENER LAS SALIDAS NECESARIAS COMO SER: IMAGEN DE LA CORRELACION DEL COMPONENTE DE \"PROCE_DATA_COMPONENT\", EL MODELO ENTRENADO DE LOS DOS MODELOS Y LAS METRICAS DE CADA MODELO."
      ],
      "metadata": {
        "nteract": {
          "transient": {
            "deleting": false
          }
        }
      },
      "id": "926204ad-40a3-4714-a8aa-9c9f18027ab7"
    },
    {
      "cell_type": "code",
      "source": [
        "# define a pipeline containing 3 nodes: Prepare data node, train node, and score node\n",
        "@pipeline(\n",
        "    default_compute='cpu-cluster',\n",
        ")\n",
        "\n",
        "def water_potability_decision_tree_dummy(pipeline_input_data):\n",
        "\n",
        "    data_filter = proce_data_component(\n",
        "        data = pipeline_input_data\n",
        "    )\n",
        "\n",
        "    split_node = split_component(\n",
        "        data_filtrado = data_filter.outputs.data_filtrado,\n",
        "        split_ratio_train = 0.8\n",
        "    )\n",
        "\n",
        "    \n",
        "    train_lr_node = train_LR_component(\n",
        "        X_train=split_node.outputs.X_train,\n",
        "        y_train=split_node.outputs.y_train\n",
        "    )\n",
        "\n",
        "    train_dt_node = train_DT_component(\n",
        "        X_train=split_node.outputs.X_train,\n",
        "        y_train=split_node.outputs.y_train,\n",
        "        criterion = \"entropy\",\n",
        "        min_samples_split = 3,\n",
        "        max_depth = 4\n",
        "\n",
        "    )\n",
        "    \n",
        "    #train_node.compute = gpu_compute_target\n",
        "\n",
        "    score_node = score_component(\n",
        "        model_input=train_lr_node.outputs.model_output,\n",
        "        X_test_data=split_node.outputs.X_test\n",
        "    )\n",
        "\n",
        "    eval_node = eval_component(\n",
        "        scoring_result=score_node.outputs.score_output,\n",
        "        y_test=split_node.outputs.y_test\n",
        "    )\n",
        "\n",
        "    score_node_2 = score_component(\n",
        "        model_input=train_dt_node.outputs.model_output,\n",
        "        X_test_data=split_node.outputs.X_test\n",
        "    )\n",
        "\n",
        "    eval_node_2 = eval_component(\n",
        "        scoring_result=score_node_2.outputs.score_output,\n",
        "        y_test=split_node.outputs.y_test\n",
        "    )\n",
        "\n",
        "    return {        \n",
        "        \"pipeline_correlacion\": data_filter.outputs.imagen_correlacion,\n",
        "        \"pipeline_modelo_lr\": train_lr_node.outputs.model_pkl,\n",
        "        \"pipeline_modelo_dt\": train_dt_node.outputs.model_pkl,\n",
        "        \"pipeline_metrica_lr\": eval_node.outputs.eval_output,\n",
        "        \"pipeline_metrica_dt\": eval_node_2.outputs.eval_output       \n",
        "        \n",
        "    }\n",
        "\n",
        "\n",
        "# create a pipeline\n",
        "water_potability_ds =  Input(\n",
        "            type=\"uri_file\",\n",
        "            path=path,\n",
        "        )\n",
        "pipeline_job = water_potability_decision_tree_dummy(pipeline_input_data=water_potability_ds)\n",
        "\n"
      ],
      "outputs": [],
      "execution_count": 38,
      "metadata": {
        "gather": {
          "logged": 1699400654972
        }
      },
      "id": "72d02a7e-9428-4b1c-82a7-fe86ce67a0f5"
    },
    {
      "cell_type": "markdown",
      "source": [
        "###### CARGA DEL PIPELINE CREADO ANTERIORMENTE AL ML_CLIENT DE AZURE PARA SU EJECUCION."
      ],
      "metadata": {
        "nteract": {
          "transient": {
            "deleting": false
          }
        }
      },
      "id": "03079a69-3220-4a87-bc01-f888983e98b6"
    },
    {
      "cell_type": "code",
      "source": [
        "pipeline_job = ml_client.jobs.create_or_update(\n",
        "    pipeline_job, experiment_name=\"pipeline_water_potability_dummy2\",\n",
        ")\n",
        "pipeline_job"
      ],
      "outputs": [
        {
          "output_type": "stream",
          "name": "stderr",
          "text": "Class AutoDeleteSettingSchema: This is an experimental class, and may change at any time. Please see https://aka.ms/azuremlexperimental for more information.\nClass AutoDeleteConditionSchema: This is an experimental class, and may change at any time. Please see https://aka.ms/azuremlexperimental for more information.\nClass BaseAutoDeleteSettingSchema: This is an experimental class, and may change at any time. Please see https://aka.ms/azuremlexperimental for more information.\nClass IntellectualPropertySchema: This is an experimental class, and may change at any time. Please see https://aka.ms/azuremlexperimental for more information.\nClass ProtectionLevelSchema: This is an experimental class, and may change at any time. Please see https://aka.ms/azuremlexperimental for more information.\nClass BaseIntellectualPropertySchema: This is an experimental class, and may change at any time. Please see https://aka.ms/azuremlexperimental for more information.\n"
        },
        {
          "output_type": "execute_result",
          "execution_count": 39,
          "data": {
            "text/plain": "PipelineJob({'inputs': {'pipeline_input_data': <azure.ai.ml.entities._job.pipeline._io.base.PipelineInput object at 0x7f1d37bed030>}, 'outputs': {'pipeline_correlacion': <azure.ai.ml.entities._job.pipeline._io.base.PipelineOutput object at 0x7f1d37bed000>, 'pipeline_modelo_lr': <azure.ai.ml.entities._job.pipeline._io.base.PipelineOutput object at 0x7f1d37bed090>, 'pipeline_modelo_dt': <azure.ai.ml.entities._job.pipeline._io.base.PipelineOutput object at 0x7f1d37bed0c0>, 'pipeline_metrica_lr': <azure.ai.ml.entities._job.pipeline._io.base.PipelineOutput object at 0x7f1d37bed0f0>, 'pipeline_metrica_dt': <azure.ai.ml.entities._job.pipeline._io.base.PipelineOutput object at 0x7f1d37bed120>}, 'jobs': {}, 'component': PipelineComponent({'intellectual_property': None, 'auto_increment_version': False, 'source': 'REMOTE.WORKSPACE.JOB', 'is_anonymous': True, 'auto_delete_setting': None, 'name': 'azureml_anonymous', 'description': None, 'tags': {}, 'properties': {}, 'print_as_yaml': True, 'id': None, 'Resource__source_path': None, 'base_path': '/mnt/batch/tasks/shared/LS_root/mounts/clusters/eddyatazaba3/code/Users/eddyatazaba/code-sample', 'creation_context': None, 'serialize': <msrest.serialization.Serializer object at 0x7f1d37becd90>, 'version': '1', 'latest_version': None, 'schema': None, 'type': 'pipeline', 'display_name': 'water_potability_decision_tree_dummy', 'is_deterministic': None, 'inputs': {'pipeline_input_data': {}}, 'outputs': {'pipeline_correlacion': {}, 'pipeline_modelo_lr': {}, 'pipeline_modelo_dt': {}, 'pipeline_metrica_lr': {}, 'pipeline_metrica_dt': {}}, 'yaml_str': None, 'other_parameter': {}, 'jobs': {'data_filter': Command({'parameters': {}, 'init': False, 'name': 'data_filter', 'type': 'command', 'status': None, 'log_files': None, 'description': None, 'tags': {}, 'properties': {}, 'print_as_yaml': True, 'id': None, 'Resource__source_path': None, 'base_path': '/mnt/batch/tasks/shared/LS_root/mounts/clusters/eddyatazaba3/code/Users/eddyatazaba/code-sample', 'creation_context': None, 'serialize': <msrest.serialization.Serializer object at 0x7f1d37bb7e20>, 'allowed_keys': {}, 'key_restriction': False, 'logger': <Logger attr_dict (WARNING)>, 'display_name': None, 'experiment_name': None, 'compute': None, 'services': None, 'comment': None, 'job_inputs': {'data': '${{parent.inputs.pipeline_input_data}}'}, 'job_outputs': {'imagen_correlacion': '${{parent.outputs.pipeline_correlacion}}'}, 'inputs': {'data': <azure.ai.ml.entities._job.pipeline._io.base.NodeInput object at 0x7f1d37bb7d60>}, 'outputs': {'imagen_correlacion': <azure.ai.ml.entities._job.pipeline._io.base.NodeOutput object at 0x7f1d37bb7ee0>}, 'component': 'proce_data:2023-11-07-23-44-08-3212837', 'referenced_control_flow_node_instance_id': None, 'kwargs': {'services': None}, 'instance_id': '8fa4e71e-8c01-46ca-99ee-f7e146747680', 'source': 'REMOTE.WORKSPACE.COMPONENT', 'validate_required_input_not_provided': True, 'limits': None, 'identity': None, 'distribution': None, 'environment_variables': {}, 'environment': None, 'resources': {'instance_count': 1}, 'queue_settings': None, 'swept': False}), 'split_node': Command({'parameters': {}, 'init': False, 'name': 'split_node', 'type': 'command', 'status': None, 'log_files': None, 'description': None, 'tags': {}, 'properties': {}, 'print_as_yaml': True, 'id': None, 'Resource__source_path': None, 'base_path': '/mnt/batch/tasks/shared/LS_root/mounts/clusters/eddyatazaba3/code/Users/eddyatazaba/code-sample', 'creation_context': None, 'serialize': <msrest.serialization.Serializer object at 0x7f1d37bb7fa0>, 'allowed_keys': {}, 'key_restriction': False, 'logger': <Logger attr_dict (WARNING)>, 'display_name': None, 'experiment_name': None, 'compute': None, 'services': None, 'comment': None, 'job_inputs': {'data_filtrado': '${{parent.jobs.data_filter.outputs.data_filtrado}}'}, 'job_outputs': {}, 'inputs': {'data_filtrado': <azure.ai.ml.entities._job.pipeline._io.base.NodeInput object at 0x7f1d37bec130>}, 'outputs': {}, 'component': 'azureml_anonymous:ab10889e-6d87-4c5e-aec3-2088940b4bf1', 'referenced_control_flow_node_instance_id': None, 'kwargs': {'services': None}, 'instance_id': 'a308b355-7415-4837-a5ae-d32074567fe4', 'source': 'REMOTE.WORKSPACE.COMPONENT', 'validate_required_input_not_provided': True, 'limits': None, 'identity': None, 'distribution': None, 'environment_variables': {}, 'environment': None, 'resources': None, 'queue_settings': None, 'swept': False}), 'train_lr_node': Command({'parameters': {}, 'init': False, 'name': 'train_lr_node', 'type': 'command', 'status': None, 'log_files': None, 'description': None, 'tags': {}, 'properties': {}, 'print_as_yaml': True, 'id': None, 'Resource__source_path': None, 'base_path': '/mnt/batch/tasks/shared/LS_root/mounts/clusters/eddyatazaba3/code/Users/eddyatazaba/code-sample', 'creation_context': None, 'serialize': <msrest.serialization.Serializer object at 0x7f1d37bec0d0>, 'allowed_keys': {}, 'key_restriction': False, 'logger': <Logger attr_dict (WARNING)>, 'display_name': None, 'experiment_name': None, 'compute': None, 'services': None, 'comment': None, 'job_inputs': {'X_train': '${{parent.jobs.split_node.outputs.X_train}}', 'y_train': '${{parent.jobs.split_node.outputs.y_train}}'}, 'job_outputs': {'model_pkl': '${{parent.outputs.pipeline_modelo_lr}}'}, 'inputs': {'X_train': <azure.ai.ml.entities._job.pipeline._io.base.NodeInput object at 0x7f1d37bec8e0>, 'y_train': <azure.ai.ml.entities._job.pipeline._io.base.NodeInput object at 0x7f1d37bec9d0>}, 'outputs': {'model_pkl': <azure.ai.ml.entities._job.pipeline._io.base.NodeOutput object at 0x7f1d37bb7e50>}, 'component': 'azureml_anonymous:0ba84a5b-8b85-46c2-be40-80a11bc3a695', 'referenced_control_flow_node_instance_id': None, 'kwargs': {'services': None}, 'instance_id': '13b71374-684e-4819-9e2f-8c6d7da9e29f', 'source': 'REMOTE.WORKSPACE.COMPONENT', 'validate_required_input_not_provided': True, 'limits': None, 'identity': None, 'distribution': None, 'environment_variables': {}, 'environment': None, 'resources': None, 'queue_settings': None, 'swept': False}), 'train_dt_node': Command({'parameters': {}, 'init': False, 'name': 'train_dt_node', 'type': 'command', 'status': None, 'log_files': None, 'description': None, 'tags': {}, 'properties': {}, 'print_as_yaml': True, 'id': None, 'Resource__source_path': None, 'base_path': '/mnt/batch/tasks/shared/LS_root/mounts/clusters/eddyatazaba3/code/Users/eddyatazaba/code-sample', 'creation_context': None, 'serialize': <msrest.serialization.Serializer object at 0x7f1d37beca00>, 'allowed_keys': {}, 'key_restriction': False, 'logger': <Logger attr_dict (WARNING)>, 'display_name': None, 'experiment_name': None, 'compute': None, 'services': None, 'comment': None, 'job_inputs': {'criterion': 'entropy', 'min_samples_split': '3', 'max_depth': '4', 'X_train': '${{parent.jobs.split_node.outputs.X_train}}', 'y_train': '${{parent.jobs.split_node.outputs.y_train}}'}, 'job_outputs': {'model_pkl': '${{parent.outputs.pipeline_modelo_dt}}'}, 'inputs': {'criterion': <azure.ai.ml.entities._job.pipeline._io.base.NodeInput object at 0x7f1d37bec910>, 'min_samples_split': <azure.ai.ml.entities._job.pipeline._io.base.NodeInput object at 0x7f1d37bec4f0>, 'max_depth': <azure.ai.ml.entities._job.pipeline._io.base.NodeInput object at 0x7f1d37bec100>, 'X_train': <azure.ai.ml.entities._job.pipeline._io.base.NodeInput object at 0x7f1d37bec670>, 'y_train': <azure.ai.ml.entities._job.pipeline._io.base.NodeInput object at 0x7f1d37bec5e0>}, 'outputs': {'model_pkl': <azure.ai.ml.entities._job.pipeline._io.base.NodeOutput object at 0x7f1d37bec9a0>}, 'component': 'azureml_anonymous:232b5093-d3f6-433a-912f-38a9443ce899', 'referenced_control_flow_node_instance_id': None, 'kwargs': {'services': None}, 'instance_id': 'eb6578cc-eb86-4cdc-980c-0bd08f003eb2', 'source': 'REMOTE.WORKSPACE.COMPONENT', 'validate_required_input_not_provided': True, 'limits': None, 'identity': None, 'distribution': None, 'environment_variables': {}, 'environment': None, 'resources': None, 'queue_settings': None, 'swept': False}), 'score_node': Command({'parameters': {}, 'init': False, 'name': 'score_node', 'type': 'command', 'status': None, 'log_files': None, 'description': None, 'tags': {}, 'properties': {}, 'print_as_yaml': True, 'id': None, 'Resource__source_path': None, 'base_path': '/mnt/batch/tasks/shared/LS_root/mounts/clusters/eddyatazaba3/code/Users/eddyatazaba/code-sample', 'creation_context': None, 'serialize': <msrest.serialization.Serializer object at 0x7f1d37bec940>, 'allowed_keys': {}, 'key_restriction': False, 'logger': <Logger attr_dict (WARNING)>, 'display_name': None, 'experiment_name': None, 'compute': None, 'services': None, 'comment': None, 'job_inputs': {'model_input': '${{parent.jobs.train_lr_node.outputs.model_output}}', 'X_test_data': '${{parent.jobs.split_node.outputs.X_test}}'}, 'job_outputs': {}, 'inputs': {'model_input': <azure.ai.ml.entities._job.pipeline._io.base.NodeInput object at 0x7f1d37beca30>, 'X_test_data': <azure.ai.ml.entities._job.pipeline._io.base.NodeInput object at 0x7f1d37beca60>}, 'outputs': {}, 'component': 'azureml_anonymous:2430513d-2f47-49c1-b67a-2a1e5f835baf', 'referenced_control_flow_node_instance_id': None, 'kwargs': {'services': None}, 'instance_id': 'bda05f1a-8415-4668-813b-623a09075c52', 'source': 'REMOTE.WORKSPACE.COMPONENT', 'validate_required_input_not_provided': True, 'limits': None, 'identity': None, 'distribution': None, 'environment_variables': {}, 'environment': None, 'resources': None, 'queue_settings': None, 'swept': False}), 'eval_node': Command({'parameters': {}, 'init': False, 'name': 'eval_node', 'type': 'command', 'status': None, 'log_files': None, 'description': None, 'tags': {}, 'properties': {}, 'print_as_yaml': True, 'id': None, 'Resource__source_path': None, 'base_path': '/mnt/batch/tasks/shared/LS_root/mounts/clusters/eddyatazaba3/code/Users/eddyatazaba/code-sample', 'creation_context': None, 'serialize': <msrest.serialization.Serializer object at 0x7f1d37beca90>, 'allowed_keys': {}, 'key_restriction': False, 'logger': <Logger attr_dict (WARNING)>, 'display_name': None, 'experiment_name': None, 'compute': None, 'services': None, 'comment': None, 'job_inputs': {'scoring_result': '${{parent.jobs.score_node.outputs.score_output}}', 'y_test': '${{parent.jobs.split_node.outputs.y_test}}'}, 'job_outputs': {'eval_output': '${{parent.outputs.pipeline_metrica_lr}}'}, 'inputs': {'scoring_result': <azure.ai.ml.entities._job.pipeline._io.base.NodeInput object at 0x7f1d37becb20>, 'y_test': <azure.ai.ml.entities._job.pipeline._io.base.NodeInput object at 0x7f1d37becb50>}, 'outputs': {'eval_output': <azure.ai.ml.entities._job.pipeline._io.base.NodeOutput object at 0x7f1d37becaf0>}, 'component': 'azureml_anonymous:918948d3-4b08-47eb-be02-a8bb8df8d8c8', 'referenced_control_flow_node_instance_id': None, 'kwargs': {'services': None}, 'instance_id': 'da0c7215-66c2-4a99-8ce9-493fdc57d6cb', 'source': 'REMOTE.WORKSPACE.COMPONENT', 'validate_required_input_not_provided': True, 'limits': None, 'identity': None, 'distribution': None, 'environment_variables': {}, 'environment': None, 'resources': None, 'queue_settings': None, 'swept': False}), 'score_node_2': Command({'parameters': {}, 'init': False, 'name': 'score_node_2', 'type': 'command', 'status': None, 'log_files': None, 'description': None, 'tags': {}, 'properties': {}, 'print_as_yaml': True, 'id': None, 'Resource__source_path': None, 'base_path': '/mnt/batch/tasks/shared/LS_root/mounts/clusters/eddyatazaba3/code/Users/eddyatazaba/code-sample', 'creation_context': None, 'serialize': <msrest.serialization.Serializer object at 0x7f1d37becbe0>, 'allowed_keys': {}, 'key_restriction': False, 'logger': <Logger attr_dict (WARNING)>, 'display_name': None, 'experiment_name': None, 'compute': None, 'services': None, 'comment': None, 'job_inputs': {'model_input': '${{parent.jobs.train_dt_node.outputs.model_output}}', 'X_test_data': '${{parent.jobs.split_node.outputs.X_test}}'}, 'job_outputs': {}, 'inputs': {'model_input': <azure.ai.ml.entities._job.pipeline._io.base.NodeInput object at 0x7f1d37becc40>, 'X_test_data': <azure.ai.ml.entities._job.pipeline._io.base.NodeInput object at 0x7f1d37becc70>}, 'outputs': {}, 'component': 'azureml_anonymous:2430513d-2f47-49c1-b67a-2a1e5f835baf', 'referenced_control_flow_node_instance_id': None, 'kwargs': {'services': None}, 'instance_id': '051a1f0b-ba56-4c67-aaf1-c941e17e300f', 'source': 'REMOTE.WORKSPACE.COMPONENT', 'validate_required_input_not_provided': True, 'limits': None, 'identity': None, 'distribution': None, 'environment_variables': {}, 'environment': None, 'resources': None, 'queue_settings': None, 'swept': False}), 'eval_node_2': Command({'parameters': {}, 'init': False, 'name': 'eval_node_2', 'type': 'command', 'status': None, 'log_files': None, 'description': None, 'tags': {}, 'properties': {}, 'print_as_yaml': True, 'id': None, 'Resource__source_path': None, 'base_path': '/mnt/batch/tasks/shared/LS_root/mounts/clusters/eddyatazaba3/code/Users/eddyatazaba/code-sample', 'creation_context': None, 'serialize': <msrest.serialization.Serializer object at 0x7f1d37becca0>, 'allowed_keys': {}, 'key_restriction': False, 'logger': <Logger attr_dict (WARNING)>, 'display_name': None, 'experiment_name': None, 'compute': None, 'services': None, 'comment': None, 'job_inputs': {'scoring_result': '${{parent.jobs.score_node_2.outputs.score_output}}', 'y_test': '${{parent.jobs.split_node.outputs.y_test}}'}, 'job_outputs': {'eval_output': '${{parent.outputs.pipeline_metrica_dt}}'}, 'inputs': {'scoring_result': <azure.ai.ml.entities._job.pipeline._io.base.NodeInput object at 0x7f1d37becd00>, 'y_test': <azure.ai.ml.entities._job.pipeline._io.base.NodeInput object at 0x7f1d37becd30>}, 'outputs': {'eval_output': <azure.ai.ml.entities._job.pipeline._io.base.NodeOutput object at 0x7f1d37beccd0>}, 'component': 'azureml_anonymous:918948d3-4b08-47eb-be02-a8bb8df8d8c8', 'referenced_control_flow_node_instance_id': None, 'kwargs': {'services': None}, 'instance_id': '10c742cb-dce7-495a-a17e-18d380d2aace', 'source': 'REMOTE.WORKSPACE.COMPONENT', 'validate_required_input_not_provided': True, 'limits': None, 'identity': None, 'distribution': None, 'environment_variables': {}, 'environment': None, 'resources': None, 'queue_settings': None, 'swept': False})}, 'job_types': {'command': 8}, 'job_sources': {'REMOTE.WORKSPACE.COMPONENT': 8}, 'source_job_id': None}), 'type': 'pipeline', 'status': 'Preparing', 'log_files': None, 'name': 'neat_stamp_3xnfzkzhx9', 'description': None, 'tags': {}, 'properties': {'azureml.DevPlatv2': 'true', 'azureml.DatasetAccessMode': 'Asset', 'azureml.runsource': 'azureml.PipelineRun', 'runSource': 'MFE', 'runType': 'HTTP', 'azureml.parameters': '{}', 'azureml.continue_on_step_failure': 'True', 'azureml.continue_on_failed_optional_input': 'True', 'azureml.enforceRerun': 'False', 'azureml.defaultComputeName': 'cpu-cluster', 'azureml.defaultDataStoreName': 'workspaceblobstore', 'azureml.pipelineComponent': 'pipelinerun'}, 'print_as_yaml': True, 'id': '/subscriptions/fc14670d-c5e7-4c9f-aaa4-11ab881abb5f/resourceGroups/proyecto-2-modulo-4/providers/Microsoft.MachineLearningServices/workspaces/proyecto_2/jobs/neat_stamp_3xnfzkzhx9', 'Resource__source_path': None, 'base_path': '/mnt/batch/tasks/shared/LS_root/mounts/clusters/eddyatazaba3/code/Users/eddyatazaba/code-sample', 'creation_context': <azure.ai.ml.entities._system_data.SystemData object at 0x7f1d37becf40>, 'serialize': <msrest.serialization.Serializer object at 0x7f1d37bed150>, 'display_name': 'water_potability_decision_tree_dummy', 'experiment_name': 'pipeline_water_potability_dummy2', 'compute': None, 'services': {'Tracking': {'endpoint': 'azureml://eastus.api.azureml.ms/mlflow/v1.0/subscriptions/fc14670d-c5e7-4c9f-aaa4-11ab881abb5f/resourceGroups/proyecto-2-modulo-4/providers/Microsoft.MachineLearningServices/workspaces/proyecto_2?', 'type': 'Tracking'}, 'Studio': {'endpoint': 'https://ml.azure.com/runs/neat_stamp_3xnfzkzhx9?wsid=/subscriptions/fc14670d-c5e7-4c9f-aaa4-11ab881abb5f/resourcegroups/proyecto-2-modulo-4/workspaces/proyecto_2&tid=ce634528-6f22-4a15-a253-f0d189edbe44', 'type': 'Studio'}}, 'settings': {}, 'identity': None, 'default_code': None, 'default_environment': None})",
            "text/html": "<table style=\"width:100%\"><tr><th>Experiment</th><th>Name</th><th>Type</th><th>Status</th><th>Details Page</th></tr><tr><td>pipeline_water_potability_dummy2</td><td>neat_stamp_3xnfzkzhx9</td><td>pipeline</td><td>Preparing</td><td><a href=\"https://ml.azure.com/runs/neat_stamp_3xnfzkzhx9?wsid=/subscriptions/fc14670d-c5e7-4c9f-aaa4-11ab881abb5f/resourcegroups/proyecto-2-modulo-4/workspaces/proyecto_2&amp;tid=ce634528-6f22-4a15-a253-f0d189edbe44\" target=\"_blank\" rel=\"noopener\">Link to Azure Machine Learning studio</a></td></tr></table>"
          },
          "metadata": {}
        }
      ],
      "execution_count": 39,
      "metadata": {
        "gather": {
          "logged": 1699400672527
        }
      },
      "id": "2f0960eb-8e26-430b-a9f1-d491620b90b6"
    },
    {
      "cell_type": "markdown",
      "source": [
        "###### COMANDO PARA VER EN QUE ESTADO ESTA LA EJECUCION DEL PIPELINE."
      ],
      "metadata": {
        "nteract": {
          "transient": {
            "deleting": false
          }
        }
      },
      "id": "63c0496e-f339-4321-b73f-670f34a07b87"
    },
    {
      "cell_type": "code",
      "source": [
        "# wait until the job completes\n",
        "ml_client.jobs.stream(pipeline_job.name)\n"
      ],
      "outputs": [
        {
          "output_type": "stream",
          "name": "stdout",
          "text": "RunId: neat_stamp_3xnfzkzhx9\nWeb View: https://ml.azure.com/runs/neat_stamp_3xnfzkzhx9?wsid=/subscriptions/fc14670d-c5e7-4c9f-aaa4-11ab881abb5f/resourcegroups/proyecto-2-modulo-4/workspaces/proyecto_2\n\nStreaming logs/azureml/executionlogs.txt\n========================================\n\n[2023-11-07 23:44:33Z] Submitting 1 runs, first five are: b256cf04:5a4d6b62-cd5e-4e95-8003-bf57f3e571f9\n[2023-11-07 23:50:59Z] Completing processing run id 5a4d6b62-cd5e-4e95-8003-bf57f3e571f9.\n[2023-11-07 23:51:00Z] Submitting 1 runs, first five are: 6adf1673:1f9740ab-765c-4d4f-aee2-759bb9ace98d\n[2023-11-07 23:52:58Z] Completing processing run id 1f9740ab-765c-4d4f-aee2-759bb9ace98d.\n[2023-11-07 23:52:58Z] Submitting 2 runs, first five are: 49f96cc6:b02ceca4-0dc2-4b05-9426-6475ec2a7f9c,7e94df33:1d32993f-d15c-4e40-a627-95044b026201\n[2023-11-07 23:53:39Z] Completing processing run id 1d32993f-d15c-4e40-a627-95044b026201.\n[2023-11-07 23:53:40Z] Submitting 1 runs, first five are: c3abfc5b:19038e17-e11c-4ad6-9a11-f39695980080\n[2023-11-07 23:54:09Z] Completing processing run id b02ceca4-0dc2-4b05-9426-6475ec2a7f9c.\n[2023-11-07 23:54:10Z] Submitting 1 runs, first five are: aef880f6:23c1b71f-b4cb-49d7-ac2e-b613128a74fa\n[2023-11-07 23:54:38Z] Completing processing run id 19038e17-e11c-4ad6-9a11-f39695980080.\n[2023-11-07 23:54:39Z] Submitting 1 runs, first five are: b3155412:a79af770-750a-4e2b-9d90-e7ee293d231d\n[2023-11-07 23:55:09Z] Completing processing run id 23c1b71f-b4cb-49d7-ac2e-b613128a74fa.\n[2023-11-07 23:55:09Z] Submitting 1 runs, first five are: e12aeb04:746ffbba-b4a8-456b-bcec-d575609b83c1\n[2023-11-07 23:56:55Z] Completing processing run id a79af770-750a-4e2b-9d90-e7ee293d231d.\n[2023-11-07 23:59:22Z] Completing processing run id 746ffbba-b4a8-456b-bcec-d575609b83c1.\n\nExecution Summary\n=================\nRunId: neat_stamp_3xnfzkzhx9\nWeb View: https://ml.azure.com/runs/neat_stamp_3xnfzkzhx9?wsid=/subscriptions/fc14670d-c5e7-4c9f-aaa4-11ab881abb5f/resourcegroups/proyecto-2-modulo-4/workspaces/proyecto_2\n\n"
        }
      ],
      "execution_count": 40,
      "metadata": {
        "gather": {
          "logged": 1699401613904
        }
      },
      "id": "c861cb3c-efb3-44be-a781-952efbe7a760"
    },
    {
      "cell_type": "markdown",
      "source": [
        "###### COMANDO PARA DESCARGAR LAS SALIDAS DEL PIPELINE, EN UN ARICHIVO LLAMADO \"PIPELINE_OUTPUT\", CUYA CARPETA TENDRA DOS SUBCARPETAS, PERO LA QUE NOS INTERESA ES EL \"NAMED_OUTPUTS\", QUE ES DONDE ESTAN LAS SALIDAS SOLICITADAS PARA EL PROYECTO."
      ],
      "metadata": {
        "nteract": {
          "transient": {
            "deleting": false
          }
        }
      },
      "id": "76c1e16a-3d25-48bc-b214-2403dce592ef"
    },
    {
      "cell_type": "code",
      "source": [
        "# Download all the outputs of the job\n",
        "output = ml_client.jobs.download(name=pipeline_job.name, download_path='./pipeline_output', all=True)"
      ],
      "outputs": [
        {
          "output_type": "stream",
          "name": "stderr",
          "text": "Downloading artifact azureml://subscriptions/fc14670d-c5e7-4c9f-aaa4-11ab881abb5f/resourcegroups/proyecto-2-modulo-4/workspaces/proyecto_2/datastores/workspaceblobstore/paths/azureml/5a4d6b62-cd5e-4e95-8003-bf57f3e571f9/imagen_correlacion/ to pipeline_output/named-outputs/pipeline_correlacion\nDownloading artifact azureml://subscriptions/fc14670d-c5e7-4c9f-aaa4-11ab881abb5f/resourcegroups/proyecto-2-modulo-4/workspaces/proyecto_2/datastores/workspaceblobstore/paths/azureml/1d32993f-d15c-4e40-a627-95044b026201/model_pkl/ to pipeline_output/named-outputs/pipeline_modelo_dt\nDownloading artifact azureml://subscriptions/fc14670d-c5e7-4c9f-aaa4-11ab881abb5f/resourcegroups/proyecto-2-modulo-4/workspaces/proyecto_2/datastores/workspaceblobstore/paths/azureml/b02ceca4-0dc2-4b05-9426-6475ec2a7f9c/model_pkl/ to pipeline_output/named-outputs/pipeline_modelo_lr\nDownloading artifact azureml://subscriptions/fc14670d-c5e7-4c9f-aaa4-11ab881abb5f/resourcegroups/proyecto-2-modulo-4/workspaces/proyecto_2/datastores/workspaceblobstore/paths/azureml/a79af770-750a-4e2b-9d90-e7ee293d231d/eval_output/ to pipeline_output/named-outputs/pipeline_metrica_dt\nDownloading artifact azureml://subscriptions/fc14670d-c5e7-4c9f-aaa4-11ab881abb5f/resourcegroups/proyecto-2-modulo-4/workspaces/proyecto_2/datastores/workspaceblobstore/paths/azureml/746ffbba-b4a8-456b-bcec-d575609b83c1/eval_output/ to pipeline_output/named-outputs/pipeline_metrica_lr\nDownloading artifact azureml://datastores/workspaceartifactstore/paths/ExperimentRun/dcid.neat_stamp_3xnfzkzhx9/ to pipeline_output/artifacts\n"
        }
      ],
      "execution_count": 41,
      "metadata": {
        "gather": {
          "logged": 1699401618349
        }
      },
      "id": "bb9474d1-ffff-48ca-8913-50e96ce0fef8"
    }
  ],
  "metadata": {
    "kernelspec": {
      "name": "python310-sdkv2",
      "language": "python",
      "display_name": "Python 3.10 - SDK v2"
    },
    "language_info": {
      "name": "python",
      "version": "3.10.11",
      "mimetype": "text/x-python",
      "codemirror_mode": {
        "name": "ipython",
        "version": 3
      },
      "pygments_lexer": "ipython3",
      "nbconvert_exporter": "python",
      "file_extension": ".py"
    },
    "microsoft": {
      "ms_spell_check": {
        "ms_spell_check_language": "en"
      },
      "host": {
        "AzureML": {
          "notebookHasBeenCompleted": true
        }
      }
    },
    "kernel_info": {
      "name": "python310-sdkv2"
    },
    "nteract": {
      "version": "nteract-front-end@1.0.0"
    }
  },
  "nbformat": 4,
  "nbformat_minor": 5
}
